{
 "cells": [
  {
   "cell_type": "code",
   "execution_count": 1,
   "metadata": {},
   "outputs": [],
   "source": [
    "from collections import Counter"
   ]
  },
  {
   "cell_type": "code",
   "execution_count": 2,
   "metadata": {},
   "outputs": [],
   "source": [
    "import numpy as np\n",
    "import pandas as pd\n",
    "import pickle"
   ]
  },
  {
   "cell_type": "code",
   "execution_count": 3,
   "metadata": {},
   "outputs": [],
   "source": [
    "from sklearn import svm, neighbors\n",
    "from sklearn.model_selection import train_test_split\n",
    "from sklearn.ensemble import VotingClassifier, RandomForestClassifier"
   ]
  },
  {
   "cell_type": "code",
   "execution_count": 7,
   "metadata": {
    "scrolled": false
   },
   "outputs": [
    {
     "data": {
      "text/plain": [
       "(['MMM',\n",
       "  'ABT',\n",
       "  'ABBV',\n",
       "  'ABMD',\n",
       "  'ACN',\n",
       "  'ATVI',\n",
       "  'ADBE',\n",
       "  'AMD',\n",
       "  'AAP',\n",
       "  'AES',\n",
       "  'AMG',\n",
       "  'AFL',\n",
       "  'A',\n",
       "  'APD',\n",
       "  'AKAM',\n",
       "  'ALK',\n",
       "  'ALB',\n",
       "  'ARE',\n",
       "  'ALXN',\n",
       "  'ALGN',\n",
       "  'ALLE',\n",
       "  'AGN',\n",
       "  'ADS',\n",
       "  'LNT',\n",
       "  'ALL',\n",
       "  'GOOGL',\n",
       "  'GOOG',\n",
       "  'MO',\n",
       "  'AMZN',\n",
       "  'AMCR',\n",
       "  'AEE',\n",
       "  'AAL',\n",
       "  'AEP',\n",
       "  'AXP',\n",
       "  'AIG',\n",
       "  'AMT',\n",
       "  'AWK',\n",
       "  'AMP',\n",
       "  'ABC',\n",
       "  'AME',\n",
       "  'AMGN',\n",
       "  'APH',\n",
       "  'ADI',\n",
       "  'ANSS',\n",
       "  'ANTM',\n",
       "  'AON',\n",
       "  'AOS',\n",
       "  'APA',\n",
       "  'AIV',\n",
       "  'AAPL'],\n",
       "                    MMM        ABT       ABBV        ABMD         ACN  \\\n",
       " Date                                                                   \n",
       " 2009-12-31   64.376617  20.377853   0.000000    8.730000   33.685593   \n",
       " 2010-01-04   64.649193  20.555250   0.000000    8.740000   34.148254   \n",
       " 2010-01-05   64.244255  20.389175   0.000000    8.530000   34.359306   \n",
       " 2010-01-06   65.155350  20.502405   0.000000    8.400000   34.724575   \n",
       " 2010-01-07   65.202065  20.672255   0.000000    8.400000   34.692101   \n",
       " ...                ...        ...        ...         ...         ...   \n",
       " 2018-12-24  174.293747  64.748940  80.819954  281.079987  132.571945   \n",
       " 2018-12-26  181.748703  68.758720  85.506279  307.440002  137.868073   \n",
       " 2018-12-27  186.081161  69.756218  86.341751  315.670013  139.256577   \n",
       " 2018-12-28  184.783386  70.210526  87.503738  318.170013  138.671432   \n",
       " 2018-12-31  185.925049  71.435196  88.531273  325.040009  139.851639   \n",
       " \n",
       "                  ATVI        ADBE        AMD         AAP        AES  ...  \\\n",
       " Date                                                                 ...   \n",
       " 2009-12-31  10.021834   36.779999   9.680000   39.517174  10.652814  ...   \n",
       " 2010-01-04  10.193225   37.090000   9.700000   39.419548  10.940943  ...   \n",
       " 2010-01-05  10.211267   37.700001   9.710000   39.185253  10.828890  ...   \n",
       " 2010-01-06  10.157144   37.619999   9.570000   39.526943  10.716842  ...   \n",
       " 2010-01-07   9.913588   36.889999   9.470000   39.517174  10.724846  ...   \n",
       " ...               ...         ...        ...         ...        ...  ...   \n",
       " 2018-12-24  43.639446  205.160004  16.650000  148.749435  13.486147  ...   \n",
       " 2018-12-26  46.050079  222.949997  17.900000  154.852417  13.935036  ...   \n",
       " 2018-12-27  46.665142  225.139999  17.490000  154.512833  13.944794  ...   \n",
       " 2018-12-28  46.427052  223.130005  17.820000  155.281937  13.925278  ...   \n",
       " 2018-12-31  46.198887  226.240005  18.459999  157.279648  14.110687  ...   \n",
       " \n",
       "                   APA        AIV        AAPL   AAPL_1d   AAPL_2d   AAPL_3d  \\\n",
       " Date                                                                         \n",
       " 2009-12-31  89.128662  11.977822   26.272409  0.015565  0.017321  0.001139   \n",
       " 2010-01-04  91.461189  12.007916   26.681330  0.001729 -0.014205 -0.016027   \n",
       " 2010-01-05  92.541077  12.308866   26.727465 -0.015906 -0.017726 -0.011195   \n",
       " 2010-01-06  93.992432  12.527055   26.302330 -0.001849  0.004787 -0.004076   \n",
       " 2010-01-07  92.566978  12.986005   26.253704  0.006648 -0.002232 -0.013581   \n",
       " ...               ...        ...         ...       ...       ...       ...   \n",
       " 2018-12-24  24.762918  41.230518  145.090836  0.070421  0.063475  0.064020   \n",
       " 2018-12-26  26.361784  42.412159  155.308350 -0.006490 -0.005981  0.003627   \n",
       " 2018-12-27  26.069309  42.500050  154.300446  0.000512  0.010183  0.000000   \n",
       " 2018-12-28  25.679340  42.460983  154.379486  0.009665  0.000000  0.000000   \n",
       " 2018-12-31  25.591597  42.851612  155.871613  0.000000  0.000000  0.000000   \n",
       " \n",
       "              AAPL_4d   AAPL_5d   AAPL_6d   AAPL_7d  \n",
       " Date                                                \n",
       " 2009-12-31 -0.000712  0.005932 -0.002942 -0.014284  \n",
       " 2010-01-04 -0.009485 -0.018223 -0.029391 -0.015700  \n",
       " 2010-01-05 -0.019918 -0.031066 -0.017399 -0.023090  \n",
       " 2010-01-06 -0.015405 -0.001517 -0.007299 -0.023890  \n",
       " 2010-01-07  0.000333 -0.005461 -0.022082  0.021180  \n",
       " ...              ...       ...       ...       ...  \n",
       " 2018-12-24  0.074304  0.000000  0.000000  0.000000  \n",
       " 2018-12-26  0.000000  0.000000  0.000000  0.000000  \n",
       " 2018-12-27  0.000000  0.000000  0.000000  0.000000  \n",
       " 2018-12-28  0.000000  0.000000  0.000000  0.000000  \n",
       " 2018-12-31  0.000000  0.000000  0.000000  0.000000  \n",
       " \n",
       " [2265 rows x 57 columns])"
      ]
     },
     "execution_count": 7,
     "metadata": {},
     "output_type": "execute_result"
    }
   ],
   "source": [
    "def process_data_for_labels(ticker):\n",
    "    hm_days = 7\n",
    "    df = pd.read_csv('sp500_joined_closes.csv', index_col=0)\n",
    "    tickers = df.columns.values.tolist()\n",
    "    df.fillna(0,inplace=True)\n",
    "    \n",
    "    for i in range(1, hm_days+1):\n",
    "        df['{}_{}d'.format(ticker, i)] = (df[ticker].shift(-i) - df[ticker]) / df[ticker]\n",
    "        \n",
    "    df.fillna(0,inplace=True)\n",
    "    return tickers, df\n",
    "\n",
    "process_data_for_labels('AAPL')"
   ]
  },
  {
   "cell_type": "code",
   "execution_count": 10,
   "metadata": {},
   "outputs": [],
   "source": [
    "def buy_sell_hold(*args):\n",
    "    cols = [c for c in args]\n",
    "    requirement = 0.05 #if stock price changes by 5%\n",
    "    for col in cols:\n",
    "        if col > requirement:\n",
    "            return 1\n",
    "        if col < -requirement:\n",
    "            return -1\n",
    "    return 0\n",
    "    "
   ]
  },
  {
   "cell_type": "code",
   "execution_count": 11,
   "metadata": {},
   "outputs": [
    {
     "name": "stdout",
     "output_type": "stream",
     "text": [
      "Data spread: Counter({'1': 1020, '-1': 854, '0': 391})\n"
     ]
    },
    {
     "data": {
      "text/plain": [
       "(array([[ 0.        ,  0.        ,  0.        , ...,  0.        ,\n",
       "          0.        ,  0.        ],\n",
       "        [ 0.00423407,  0.00870537,  0.        , ...,  0.02617034,\n",
       "          0.00251249,  0.01556463],\n",
       "        [-0.00626362, -0.00807943,  0.        , ...,  0.01180706,\n",
       "          0.02506256,  0.00172911],\n",
       "        ...,\n",
       "        [ 0.02383763,  0.01450722,  0.00977089, ..., -0.01109465,\n",
       "          0.0020723 , -0.0064897 ],\n",
       "        [-0.00697424,  0.00651279,  0.013458  , ..., -0.01495893,\n",
       "         -0.00091921,  0.00051225],\n",
       "        [ 0.00617838,  0.01744283,  0.01174275, ..., -0.0034169 ,\n",
       "          0.00919971,  0.00966532]]),\n",
       " array([ 0, -1, -1, ...,  0,  0,  0], dtype=int64),\n",
       "                    MMM        ABT       ABBV        ABMD         ACN  \\\n",
       " Date                                                                   \n",
       " 2009-12-31   64.376617  20.377853   0.000000    8.730000   33.685593   \n",
       " 2010-01-04   64.649193  20.555250   0.000000    8.740000   34.148254   \n",
       " 2010-01-05   64.244255  20.389175   0.000000    8.530000   34.359306   \n",
       " 2010-01-06   65.155350  20.502405   0.000000    8.400000   34.724575   \n",
       " 2010-01-07   65.202065  20.672255   0.000000    8.400000   34.692101   \n",
       " ...                ...        ...        ...         ...         ...   \n",
       " 2018-12-24  174.293747  64.748940  80.819954  281.079987  132.571945   \n",
       " 2018-12-26  181.748703  68.758720  85.506279  307.440002  137.868073   \n",
       " 2018-12-27  186.081161  69.756218  86.341751  315.670013  139.256577   \n",
       " 2018-12-28  184.783386  70.210526  87.503738  318.170013  138.671432   \n",
       " 2018-12-31  185.925049  71.435196  88.531273  325.040009  139.851639   \n",
       " \n",
       "                  ATVI        ADBE        AMD         AAP        AES  ...  \\\n",
       " Date                                                                 ...   \n",
       " 2009-12-31  10.021834   36.779999   9.680000   39.517174  10.652814  ...   \n",
       " 2010-01-04  10.193225   37.090000   9.700000   39.419548  10.940943  ...   \n",
       " 2010-01-05  10.211267   37.700001   9.710000   39.185253  10.828890  ...   \n",
       " 2010-01-06  10.157144   37.619999   9.570000   39.526943  10.716842  ...   \n",
       " 2010-01-07   9.913588   36.889999   9.470000   39.517174  10.724846  ...   \n",
       " ...               ...         ...        ...         ...        ...  ...   \n",
       " 2018-12-24  43.639446  205.160004  16.650000  148.749435  13.486147  ...   \n",
       " 2018-12-26  46.050079  222.949997  17.900000  154.852417  13.935036  ...   \n",
       " 2018-12-27  46.665142  225.139999  17.490000  154.512833  13.944794  ...   \n",
       " 2018-12-28  46.427052  223.130005  17.820000  155.281937  13.925278  ...   \n",
       " 2018-12-31  46.198887  226.240005  18.459999  157.279648  14.110687  ...   \n",
       " \n",
       "                   AIV        AAPL   AAPL_1d   AAPL_2d   AAPL_3d   AAPL_4d  \\\n",
       " Date                                                                        \n",
       " 2009-12-31  11.977822   26.272409  0.015565  0.017321  0.001139 -0.000712   \n",
       " 2010-01-04  12.007916   26.681330  0.001729 -0.014205 -0.016027 -0.009485   \n",
       " 2010-01-05  12.308866   26.727465 -0.015906 -0.017726 -0.011195 -0.019918   \n",
       " 2010-01-06  12.527055   26.302330 -0.001849  0.004787 -0.004076 -0.015405   \n",
       " 2010-01-07  12.986005   26.253704  0.006648 -0.002232 -0.013581  0.000333   \n",
       " ...               ...         ...       ...       ...       ...       ...   \n",
       " 2018-12-24  41.230518  145.090836  0.070421  0.063475  0.064020  0.074304   \n",
       " 2018-12-26  42.412159  155.308350 -0.006490 -0.005981  0.003627  0.000000   \n",
       " 2018-12-27  42.500050  154.300446  0.000512  0.010183  0.000000  0.000000   \n",
       " 2018-12-28  42.460983  154.379486  0.009665  0.000000  0.000000  0.000000   \n",
       " 2018-12-31  42.851612  155.871613  0.000000  0.000000  0.000000  0.000000   \n",
       " \n",
       "              AAPL_5d   AAPL_6d   AAPL_7d  AAPL_target  \n",
       " Date                                                   \n",
       " 2009-12-31  0.005932 -0.002942 -0.014284            0  \n",
       " 2010-01-04 -0.018223 -0.029391 -0.015700           -1  \n",
       " 2010-01-05 -0.031066 -0.017399 -0.023090           -1  \n",
       " 2010-01-06 -0.001517 -0.007299 -0.023890           -1  \n",
       " 2010-01-07 -0.005461 -0.022082  0.021180           -1  \n",
       " ...              ...       ...       ...          ...  \n",
       " 2018-12-24  0.000000  0.000000  0.000000            1  \n",
       " 2018-12-26  0.000000  0.000000  0.000000            0  \n",
       " 2018-12-27  0.000000  0.000000  0.000000            0  \n",
       " 2018-12-28  0.000000  0.000000  0.000000            0  \n",
       " 2018-12-31  0.000000  0.000000  0.000000            0  \n",
       " \n",
       " [2265 rows x 58 columns])"
      ]
     },
     "execution_count": 11,
     "metadata": {},
     "output_type": "execute_result"
    }
   ],
   "source": [
    "def extract_featuresets(ticker):\n",
    "    tickers, df = process_data_for_labels(ticker)\n",
    "    \n",
    "    df['{}_target'.format(ticker)] = list(map(buy_sell_hold,\n",
    "                                             df['{}_1d'.format(ticker)],\n",
    "                                             df['{}_2d'.format(ticker)],\n",
    "                                             df['{}_3d'.format(ticker)],\n",
    "                                             df['{}_4d'.format(ticker)],\n",
    "                                             df['{}_5d'.format(ticker)],\n",
    "                                             df['{}_6d'.format(ticker)],\n",
    "                                             df['{}_7d'.format(ticker)]\n",
    "                                             ))\n",
    "    \n",
    "    vals = df['{}_target'.format(ticker)].values.tolist()\n",
    "    str_vals = [str(i) for i in vals]\n",
    "    print('Data spread:',Counter(str_vals))\n",
    "    \n",
    "    df.fillna(0,inplace=True)\n",
    "    df = df.replace([np.inf,-np.inf], np.nan)\n",
    "    df.dropna(inplace=True)\n",
    "    \n",
    "    df_vals = df[[ticker for ticker in tickers]].pct_change()\n",
    "    df_vals = df_vals.replace([np.inf,-np.inf], 0)\n",
    "    df_vals.fillna(0,inplace=True)\n",
    "    \n",
    "    X = df_vals.values\n",
    "    y = df['{}_target'.format(ticker)].values\n",
    "    \n",
    "    return X, y, df\n",
    "\n",
    "extract_featuresets('AAPL')"
   ]
  },
  {
   "cell_type": "code",
   "execution_count": 13,
   "metadata": {},
   "outputs": [
    {
     "name": "stdout",
     "output_type": "stream",
     "text": [
      "Data spread: Counter({'1': 1020, '-1': 854, '0': 391})\n"
     ]
    },
    {
     "name": "stderr",
     "output_type": "stream",
     "text": [
      "C:\\Users\\Akshay\\AppData\\Roaming\\Python\\Python36\\site-packages\\sklearn\\ensemble\\forest.py:245: FutureWarning: The default value of n_estimators will change from 10 in version 0.20 to 100 in 0.22.\n",
      "  \"10 in version 0.20 to 100 in 0.22.\", FutureWarning)\n"
     ]
    },
    {
     "name": "stdout",
     "output_type": "stream",
     "text": [
      "Accuracy: 0.43033509700176364\n",
      "Predicted spread: Counter({1: 357, -1: 198, 0: 12})\n"
     ]
    },
    {
     "data": {
      "text/plain": [
       "0.43033509700176364"
      ]
     },
     "execution_count": 13,
     "metadata": {},
     "output_type": "execute_result"
    }
   ],
   "source": [
    "def do_ml(ticker):\n",
    "    X, y, df = extract_featuresets(ticker)\n",
    "    X_train, X_test, y_train, y_test = train_test_split(X,\n",
    "                                                       y,\n",
    "                                                       test_size=0.25)\n",
    "    \n",
    "    #clf = neighbors.KNeighborsClassifier()\n",
    "    \n",
    "    clf = VotingClassifier([('lsvc',svm.LinearSVC()),\n",
    "                           ('knn', neighbors.KNeighborsClassifier()),\n",
    "                           ('rfor', RandomForestClassifier())\n",
    "                           ])\n",
    "    \n",
    "    \n",
    "    \n",
    "    clf.fit(X_train,y_train)\n",
    "    confidence = clf.score(X_test, y_test)\n",
    "    print('Accuracy:',confidence)\n",
    "    predictions = clf.predict(X_test)\n",
    "    print('Predicted spread:', Counter(predictions))\n",
    "    \n",
    "    return confidence\n",
    "\n",
    "do_ml('AAPL')"
   ]
  },
  {
   "cell_type": "code",
   "execution_count": null,
   "metadata": {},
   "outputs": [],
   "source": []
  }
 ],
 "metadata": {
  "kernelspec": {
   "display_name": "Python 3",
   "language": "python",
   "name": "python3"
  },
  "language_info": {
   "codemirror_mode": {
    "name": "ipython",
    "version": 3
   },
   "file_extension": ".py",
   "mimetype": "text/x-python",
   "name": "python",
   "nbconvert_exporter": "python",
   "pygments_lexer": "ipython3",
   "version": "3.6.4"
  }
 },
 "nbformat": 4,
 "nbformat_minor": 2
}
